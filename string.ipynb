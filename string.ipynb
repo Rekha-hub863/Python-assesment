{
 "cells": [
  {
   "cell_type": "code",
   "execution_count": 1,
   "id": "31fed14d-f89d-4cf9-8c8b-b41adff00a94",
   "metadata": {},
   "outputs": [
    {
     "name": "stdout",
     "output_type": "stream",
     "text": [
      "Hello, World!\n",
      "Python is awesome!\n"
     ]
    }
   ],
   "source": [
    "#program 1:Different ways creating a string \n",
    "#use single quotes\n",
    "string1 = 'Hello, World!'\n",
    "print(string1)\n",
    "#use Double quotes\n",
    "string2 = \"Python is awesome!\"\n",
    "print(string2)"
   ]
  },
  {
   "cell_type": "code",
   "execution_count": 3,
   "id": "e1110baa-9db5-42ca-984f-6be6acfe424f",
   "metadata": {},
   "outputs": [
    {
     "name": "stdout",
     "output_type": "stream",
     "text": [
      "Hello World!\n"
     ]
    }
   ],
   "source": [
    "#program 2: Concatenating two strings using + operator\n",
    "# Define two strings\n",
    "string1 = \"Hello\"\n",
    "string2 = \"World!\"\n",
    "result = string1 + \" \" + string2\n",
    "print(result)"
   ]
  },
  {
   "cell_type": "code",
   "execution_count": 5,
   "id": "95a2c070-a3bf-46c9-baff-a334f269da82",
   "metadata": {},
   "outputs": [
    {
     "name": "stdout",
     "output_type": "stream",
     "text": [
      "The length of the string is: 13\n"
     ]
    }
   ],
   "source": [
    "#program 3:Finding the length of the string\n",
    "def string_length(s):\n",
    "    count = 0\n",
    "    for char in s:\n",
    "        count += 1\n",
    "    return count\n",
    "string = \"Hello, World!\"\n",
    "length = string_length(string)\n",
    "print(f\"The length of the string is: {length}\")"
   ]
  },
  {
   "cell_type": "code",
   "execution_count": 7,
   "id": "0c69728a-e3a1-4738-a40a-c00a6be3e730",
   "metadata": {},
   "outputs": [
    {
     "name": "stdout",
     "output_type": "stream",
     "text": [
      "World\n"
     ]
    }
   ],
   "source": [
    "#program 4:Extract a string using Substring\n",
    "\n",
    "string = \"Hello, World!\"\n",
    "substring = string[7:12]\n",
    "print(substring)"
   ]
  },
  {
   "cell_type": "code",
   "execution_count": 9,
   "id": "f78be1ee-e866-4f1b-b2b5-254b8f2bf5c2",
   "metadata": {},
   "outputs": [
    {
     "name": "stdout",
     "output_type": "stream",
     "text": [
      "Index of 'Hello' after index 7: 14\n"
     ]
    }
   ],
   "source": [
    "#program 5:Searching in strings using index()\n",
    "string = \"Hello, World! Hello again!\"\n",
    "index = string.index(\"Hello\", 7)\n",
    "print(\"Index of 'Hello' after index 7:\", index)\n"
   ]
  },
  {
   "cell_type": "code",
   "execution_count": 11,
   "id": "8bbd62d2-f09f-4b51-a819-580f1d3a155b",
   "metadata": {},
   "outputs": [
    {
     "name": "stdout",
     "output_type": "stream",
     "text": [
      "Match found!\n"
     ]
    }
   ],
   "source": [
    "#program 6:\n",
    "import re\n",
    "\n",
    "# Define the pattern and string\n",
    "pattern = r\"Hello\"\n",
    "string = \"Hello, World!\"\n",
    "\n",
    "# Check if the string matches the pattern from the beginning\n",
    "match = re.match(pattern, string)\n",
    "\n",
    "if match:\n",
    "    print(\"Match found!\")\n",
    "else:\n",
    "    print(\"Match not found!\")"
   ]
  },
  {
   "cell_type": "code",
   "execution_count": 13,
   "id": "499b8d7f-7efa-4242-90b0-cfc2e76201d1",
   "metadata": {},
   "outputs": [
    {
     "name": "stdout",
     "output_type": "stream",
     "text": [
      "False\n",
      "False\n",
      "True\n"
     ]
    }
   ],
   "source": [
    "#program 7 :Comparing strings\n",
    "#method 1- =\n",
    "string1 = \"apple\"\n",
    "string2 = \"banana\"\n",
    "print(string1 == string2)  \n",
    "#method 2 - is\n",
    "print(string1 is string2)   \n",
    "#method 3-!=\n",
    "print(string1 != string2) "
   ]
  },
  {
   "cell_type": "code",
   "execution_count": 15,
   "id": "de27b678-9ca0-47f1-8208-d8ce877a596e",
   "metadata": {},
   "outputs": [
    {
     "name": "stdout",
     "output_type": "stream",
     "text": [
      "True\n",
      "True\n",
      "True\n",
      "True\n",
      "False\n"
     ]
    }
   ],
   "source": [
    "#program 8 startswth(),endswith() and comparing strings\n",
    "string = \"Hello, World!\"\n",
    "\n",
    "# Check the start and end of the string\n",
    "print(string.startswith(\"Hello\")) \n",
    "print(string.endswith(\"World!\"))  \n",
    "\n",
    "# Compare strings\n",
    "print(\"apple\" < \"banana\")  \n",
    "print(\"apple\" == \"apple\")  \n",
    "print(\"apple\" > \"banana\") "
   ]
  },
  {
   "cell_type": "code",
   "execution_count": 17,
   "id": "e168ecf7-a7b9-48c4-ba2d-73ea08546c44",
   "metadata": {},
   "outputs": [
    {
     "name": "stdout",
     "output_type": "stream",
     "text": [
      "Original: '   Hello, World!   '\n",
      "trimmed_string:'Hello, World!'\n",
      "Leading trimmed: 'Hello, World!   '\n",
      "Trailing trimmed: '   Hello, World!'\n"
     ]
    }
   ],
   "source": [
    "#program 9:Trimming strings with strip\n",
    "string = \"   Hello, World!   \"\n",
    "leading_trimmed = string.lstrip()\n",
    "trailing_trimmed = string.rstrip()\n",
    "trimmed_string = string.strip()\n",
    "print(f\"Original: '{string}'\")\n",
    "print(f\"trimmed_string:'{trimmed_string}'\")\n",
    "print(f\"Leading trimmed: '{leading_trimmed}'\")\n",
    "print(f\"Trailing trimmed: '{trailing_trimmed}'\")"
   ]
  },
  {
   "cell_type": "code",
   "execution_count": 19,
   "id": "9c0ee31f-fa52-42a9-909b-409d0044b872",
   "metadata": {},
   "outputs": [
    {
     "name": "stdout",
     "output_type": "stream",
     "text": [
      "Original: Apples are good for health\n",
      "Modified: Oranges are good for health\n"
     ]
    }
   ],
   "source": [
    "#program 10 :Replacing characters in strings with replace()\n",
    "\n",
    "string = \"Apples are good for health\"\n",
    "\n",
    "# Replace all occurrences of \"Apples\" with \"Oranges\"\n",
    "new_string = string.replace(\"Apples\", \"Oranges\")\n",
    "print(f\"Original: {string}\")\n",
    "print(f\"Modified: {new_string}\")"
   ]
  },
  {
   "cell_type": "code",
   "execution_count": 21,
   "id": "73ad3521-384a-4d74-bb3d-e766987d8de6",
   "metadata": {},
   "outputs": [
    {
     "name": "stdout",
     "output_type": "stream",
     "text": [
      "Original: 'Hello, how are you?'\n",
      "Split into words: ['Hello,', 'how', 'are', 'you?']\n"
     ]
    }
   ],
   "source": [
    "#program 11:Splitting strings with split()\n",
    "string = \"Hello, how are you?\"\n",
    "words = string.split()\n",
    "print(f\"Original: '{string}'\")\n",
    "print(f\"Split into words: {words}\")\n"
   ]
  },
  {
   "cell_type": "code",
   "execution_count": 23,
   "id": "ae26841c-8944-4796-8a42-4d6be1c242df",
   "metadata": {},
   "outputs": [
    {
     "name": "stdout",
     "output_type": "stream",
     "text": [
      "Integer: 22\n",
      "String: 22\n"
     ]
    }
   ],
   "source": [
    "#program 12:converting integer objects to strings\n",
    "num = 22\n",
    "num_str = str(num)\n",
    "print(f\"Integer: {num}\")\n",
    "print(f\"String: {num_str}\")"
   ]
  },
  {
   "cell_type": "code",
   "execution_count": 25,
   "id": "d11ca879-e007-45f4-9e73-865bc998ede4",
   "metadata": {},
   "outputs": [
    {
     "name": "stdout",
     "output_type": "stream",
     "text": [
      "Original: PyThOn Is FuN\n",
      "Uppercase: PYTHON IS FUN\n",
      "Lowercase: python is fun\n"
     ]
    }
   ],
   "source": [
    "#program 13:coverting to uppercase and lower case\n",
    "string = \"PyThOn Is FuN\"\n",
    "\n",
    "# Convert to uppercase\n",
    "upper_string = string.upper()\n",
    "\n",
    "#convert to lower case\n",
    "lower_string = string.lower()\n",
    "print(f\"Original: {string}\")\n",
    "print(f\"Uppercase: {upper_string}\")\n",
    "print(f\"Lowercase: {lower_string}\")\n"
   ]
  },
  {
   "cell_type": "code",
   "execution_count": null,
   "id": "6854347c-af9e-4524-9f10-0110f078f318",
   "metadata": {},
   "outputs": [],
   "source": []
  }
 ],
 "metadata": {
  "kernelspec": {
   "display_name": "Python 3 (ipykernel)",
   "language": "python",
   "name": "python3"
  },
  "language_info": {
   "codemirror_mode": {
    "name": "ipython",
    "version": 3
   },
   "file_extension": ".py",
   "mimetype": "text/x-python",
   "name": "python",
   "nbconvert_exporter": "python",
   "pygments_lexer": "ipython3",
   "version": "3.12.4"
  }
 },
 "nbformat": 4,
 "nbformat_minor": 5
}
