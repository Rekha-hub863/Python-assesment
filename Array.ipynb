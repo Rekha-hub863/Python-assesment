{
 "cells": [
  {
   "cell_type": "code",
   "execution_count": 1,
   "id": "e6cb585e-7e96-4c2f-ab96-2bf059d68d1b",
   "metadata": {},
   "outputs": [
    {
     "name": "stdout",
     "output_type": "stream",
     "text": [
      "Sum of array elements: 15\n"
     ]
    }
   ],
   "source": [
    "#Arrays\n",
    "#program-1 Write a function to add integer values of an array\n",
    "def sum_array(arr):\n",
    "    total = sum(arr)  \n",
    "    return total\n",
    "numbers = [1, 2, 3, 4, 5]\n",
    "result = sum_array(numbers)\n",
    "print(f\"Sum of array elements: {result}\")"
   ]
  },
  {
   "cell_type": "code",
   "execution_count": 3,
   "id": "32a2ced3-0c1b-43b8-9877-a98a6e9d5d28",
   "metadata": {},
   "outputs": [
    {
     "name": "stdout",
     "output_type": "stream",
     "text": [
      "Average value of array elements: 30.0\n"
     ]
    }
   ],
   "source": [
    "#program-2\n",
    "#Write a function to calculate the average value of an array of integers \n",
    "def average_of_array(arr):\n",
    "    if len(arr) == 0:  \n",
    "        return \"Array is empty\"\n",
    "    \n",
    "    total = sum(arr)  \n",
    "    average = total / len(arr)  \n",
    "    return average\n",
    "\n",
    "numbers = [10, 20, 30, 40, 50]\n",
    "result = average_of_array(numbers)\n",
    "print(f\"Average value of array elements: {result}\")"
   ]
  },
  {
   "cell_type": "code",
   "execution_count": 5,
   "id": "2d29d076-0de7-49f8-92ed-853dab9eb7f4",
   "metadata": {},
   "outputs": [
    {
     "name": "stdin",
     "output_type": "stream",
     "text": [
      "Enter the number to find:  2\n"
     ]
    },
    {
     "name": "stdout",
     "output_type": "stream",
     "text": [
      "Element 2 not found in the array.\n"
     ]
    }
   ],
   "source": [
    "#program-3\n",
    "#program to find the index of an array element \n",
    "def find_index(arr, target):\n",
    "    if target in arr:\n",
    "        return arr.index(target)  \n",
    "    else:\n",
    "        return -1  \n",
    "numbers = [10, 20, 30, 40, 50]\n",
    "target_element = int(input(\"Enter the number to find: \"))\n",
    "\n",
    "index = find_index(numbers, target_element)\n",
    "\n",
    "if index != -1:\n",
    "    print(f\"Element {target_element} found at index {index}.\")\n",
    "else:\n",
    "    print(f\"Element {target_element} not found in the array.\")"
   ]
  },
  {
   "cell_type": "code",
   "execution_count": 7,
   "id": "f648b105-5a45-4d34-83a9-8611064706ae",
   "metadata": {},
   "outputs": [
    {
     "name": "stdin",
     "output_type": "stream",
     "text": [
      "Enter the number to search:  10\n"
     ]
    },
    {
     "name": "stdout",
     "output_type": "stream",
     "text": [
      "Element 10 is present in the array.\n"
     ]
    }
   ],
   "source": [
    "#program-4\n",
    "#a function to test if array contains a specific value \n",
    "def contains_value(arr, target):\n",
    "    return target in arr  \n",
    "\n",
    "numbers = [10, 20, 30, 40, 50]\n",
    "target_element = int(input(\"Enter the number to search: \"))\n",
    "\n",
    "if contains_value(numbers, target_element):\n",
    "    print(f\"Element {target_element} is present in the array.\")\n",
    "else:\n",
    "    print(f\"Element {target_element} is not found in the array.\")"
   ]
  },
  {
   "cell_type": "code",
   "execution_count": 11,
   "id": "a6718c46-7f15-49b4-b48f-6892ef7f0319",
   "metadata": {},
   "outputs": [
    {
     "name": "stdin",
     "output_type": "stream",
     "text": [
      "Enter the number to remove:  50\n"
     ]
    },
    {
     "name": "stdout",
     "output_type": "stream",
     "text": [
      "Updated array: [10, 20, 30, 40]\n"
     ]
    }
   ],
   "source": [
    "#program-5\n",
    "#function to remove a specific element from an array \n",
    "def remove_element(arr, target):\n",
    "    if target in arr:\n",
    "        arr.remove(target)  \n",
    "        return arr\n",
    "    else:\n",
    "        return \"Element not found in the array\"\n",
    "numbers = [10, 20, 30, 40, 50]\n",
    "target_element = int(input(\"Enter the number to remove: \"))\n",
    "result = remove_element(numbers, target_element)\n",
    "print(f\"Updated array: {result}\")"
   ]
  },
  {
   "cell_type": "code",
   "execution_count": 13,
   "id": "7c222021-9c3d-42cb-ad6f-395c26e43e64",
   "metadata": {},
   "outputs": [
    {
     "name": "stdout",
     "output_type": "stream",
     "text": [
      "Original array: [10, 20, 30, 40, 50]\n",
      "Copied array: [10, 20, 30, 40, 50]\n"
     ]
    }
   ],
   "source": [
    "#program-6\n",
    "#function to copy an array to another array\n",
    "def copy_array(original_array):\n",
    "    new_array = original_array.copy()  \n",
    "    return new_array\n",
    "numbers = [10, 20, 30, 40, 50]\n",
    "copied_numbers = copy_array(numbers)\n",
    "\n",
    "print(f\"Original array: {numbers}\")\n",
    "print(f\"Copied array: {copied_numbers}\")"
   ]
  },
  {
   "cell_type": "code",
   "execution_count": 15,
   "id": "f6e52d4f-681a-47da-8ef6-f6df752506f1",
   "metadata": {},
   "outputs": [
    {
     "name": "stdin",
     "output_type": "stream",
     "text": [
      "Enter the element to insert:  40 \n",
      "Enter the position (index) to insert at:  68\n"
     ]
    },
    {
     "name": "stdout",
     "output_type": "stream",
     "text": [
      "Invalid position!\n",
      "Updated Array: [10, 20, 30, 40, 50]\n"
     ]
    },
    {
     "name": "stdin",
     "output_type": "stream",
     "text": [
      "Enter the element to insert:  28\n",
      "Enter the position (index) to insert at:  43\n"
     ]
    },
    {
     "name": "stdout",
     "output_type": "stream",
     "text": [
      "Invalid position!\n",
      "Updated Array: [10, 20, 30, 40, 50]\n"
     ]
    }
   ],
   "source": [
    "#program-7\n",
    "#program for insert element position\n",
    "def insert_element(arr, element, position):\n",
    "    if position < 0 or position > len(arr):\n",
    "        print(\"Invalid position!\")\n",
    "        return arr  \n",
    "    \n",
    "    arr.insert(position, element)  \n",
    "    return arr\n",
    "\n",
    "# Example usage\n",
    "arr = [10, 20, 30, 40, 50]\n",
    "element = int(input(\"Enter the element to insert: \"))\n",
    "position = int(input(\"Enter the position (index) to insert at: \"))\n",
    "\n",
    "# Call the function\n",
    "updated_arr = insert_element(arr, element, position)\n",
    "\n",
    "# Print the updated array\n",
    "print(\"Updated Array:\", updated_arr)\n",
    "#function to insert an element at a specific position in the array \n",
    "def insert_element(arr, element, position):\n",
    "    if position < 0 or position > len(arr):\n",
    "        print(\"Invalid position!\")\n",
    "        return arr  # Return the original array if position is out of range\n",
    "    \n",
    "    arr.insert(position, element)  # Use insert() method\n",
    "    return arr\n",
    "\n",
    "# Example usage\n",
    "arr = [10, 20, 30, 40, 50]\n",
    "element = int(input(\"Enter the element to insert: \"))\n",
    "position = int(input(\"Enter the position (index) to insert at: \"))\n",
    "updated_arr = insert_element(arr, element, position)\n",
    "print(\"Updated Array:\", updated_arr)"
   ]
  },
  {
   "cell_type": "code",
   "execution_count": 17,
   "id": "c2b85db7-c583-4079-91e4-92c2c1fedc05",
   "metadata": {},
   "outputs": [
    {
     "name": "stdout",
     "output_type": "stream",
     "text": [
      "Minimum Value: 1\n",
      "Maximum Value: 78\n"
     ]
    }
   ],
   "source": [
    "#program-8\n",
    "#program to find min & max value in array\n",
    "def find_min_max(arr):\n",
    "    if not arr:\n",
    "        return \"Array is empty!\"  \n",
    "    \n",
    "    min_value = min(arr)  \n",
    "    max_value = max(arr)  \n",
    "    \n",
    "    return min_value, max_value  \n",
    "arr = [10, 45, 2, 78, 23, 56, 1]\n",
    "min_val, max_val = find_min_max(arr)\n",
    "print(f\"Minimum Value: {min_val}\")\n",
    "print(f\"Maximum Value: {max_val}\")"
   ]
  },
  {
   "cell_type": "code",
   "execution_count": 19,
   "id": "3390fbcb-4bd7-46cf-812d-2bc5227e57df",
   "metadata": {},
   "outputs": [
    {
     "name": "stdout",
     "output_type": "stream",
     "text": [
      "Original array: [10, 20, 30, 40, 50]\n",
      "Reversed array: [50, 40, 30, 20, 10]\n"
     ]
    }
   ],
   "source": [
    "#program-9\n",
    "#program for function to reverse an array of integer values\n",
    "def reverse_array(arr):\n",
    "    return arr[::-1]  \n",
    "numbers = [10, 20, 30, 40, 50]\n",
    "reversed_numbers = reverse_array(numbers)\n",
    "\n",
    "print(f\"Original array: {numbers}\")\n",
    "print(f\"Reversed array: {reversed_numbers}\")"
   ]
  },
  {
   "cell_type": "code",
   "execution_count": 21,
   "id": "ba084633-ab8d-4437-b1f8-c403a6332555",
   "metadata": {},
   "outputs": [
    {
     "name": "stdout",
     "output_type": "stream",
     "text": [
      "Duplicate values: [8, 3]\n"
     ]
    }
   ],
   "source": [
    "#program-10\n",
    "#function to find the duplicate values of an array \n",
    "def find_duplicates_set(arr):\n",
    "    seen = set()\n",
    "    duplicates = set()\n",
    "\n",
    "    for num in arr:\n",
    "        if num in seen:\n",
    "            duplicates.add(num)  \n",
    "        else:\n",
    "            seen.add(num)\n",
    "\n",
    "    return list(duplicates)\n",
    "arr = [1, 2, 3, 4, 5, 8, 3, 6, 7, 8, 8, 9]\n",
    "duplicates = find_duplicates_set(arr)\n",
    "\n",
    "print(\"Duplicate values:\", duplicates)"
   ]
  },
  {
   "cell_type": "code",
   "execution_count": 23,
   "id": "920a8044-1672-4c04-b9cb-1589c656893b",
   "metadata": {},
   "outputs": [
    {
     "name": "stdout",
     "output_type": "stream",
     "text": [
      "Common values: [2, 3, 4, 5]\n"
     ]
    }
   ],
   "source": [
    "#program-11\n",
    "#program to find the common values between two arrays \n",
    "def find_common_values_manual(arr1, arr2):\n",
    "    common = []\n",
    "    for num in arr1:\n",
    "        if num in arr2 and num not in common:\n",
    "            common.append(num)  \n",
    "    return common\n",
    "arr1 = [1, 2, 3, 3, 4, 5]\n",
    "arr2 = [2, 4, 4,3, 5, 6]\n",
    "common_values = find_common_values_manual(arr1, arr2)\n",
    "print(\"Common values:\", common_values)"
   ]
  },
  {
   "cell_type": "code",
   "execution_count": 25,
   "id": "dd39e1f4-7b6f-4a49-a5c9-a7a52080b50b",
   "metadata": {},
   "outputs": [
    {
     "name": "stdout",
     "output_type": "stream",
     "text": [
      "Array without duplicates (Ordered): [1, 2, 3, 4, 5, 6, 7]\n"
     ]
    }
   ],
   "source": [
    "#program-12\n",
    "#method to remove duplicate elements from an array\n",
    "def remove_duplicates_ordered(arr):\n",
    "    unique_list = []\n",
    "    for num in arr:\n",
    "        if num not in unique_list:\n",
    "            unique_list.append(num)  \n",
    "    return unique_list\n",
    "arr = [1,1, 2, 2, 3, 4, 4, 5, 6, 6, 7]\n",
    "unique_arr = remove_duplicates_ordered(arr)\n",
    "print(\"Array without duplicates (Ordered):\", unique_arr)"
   ]
  },
  {
   "cell_type": "code",
   "execution_count": 27,
   "id": "bd56e7ce-2eaf-4b6e-b72e-f340a2c189a2",
   "metadata": {},
   "outputs": [
    {
     "name": "stdin",
     "output_type": "stream",
     "text": [
      " 4\n"
     ]
    },
    {
     "name": "stdout",
     "output_type": "stream",
     "text": [
      "There is no second largest number.\n"
     ]
    }
   ],
   "source": [
    "#program-13\n",
    "#to find the second largest number in an array \n",
    "def second_largest(arr):\n",
    "    if len(arr) < 2:\n",
    "        return None\n",
    "    largest = second_largest = float('-inf')\n",
    "    for num in arr:\n",
    "        if num > largest:\n",
    "            second_largest = largest\n",
    "            largest = num\n",
    "        elif num > second_largest and num != largest:\n",
    "            second_largest = num\n",
    "    if second_largest == float('-inf'):\n",
    "        return None\n",
    "    \n",
    "    return second_largest\n",
    "arr_input = input()\n",
    "arr = list(map(int, arr_input.split()))\n",
    "result = second_largest(arr)\n",
    "if result is not None:\n",
    "    print(f\"The second largest number is: {result}\")\n",
    "else:\n",
    "    print(\"There is no second largest number.\")"
   ]
  },
  {
   "cell_type": "code",
   "execution_count": 29,
   "id": "1d03a8d3-87b0-442e-a58e-9df7d71483f9",
   "metadata": {},
   "outputs": [
    {
     "name": "stdout",
     "output_type": "stream",
     "text": [
      "Number of even numbers: 5\n",
      "Number of odd numbers: 4\n"
     ]
    }
   ],
   "source": [
    "#program-14\n",
    "#find number of even number and odd numbers in an array \n",
    "def count_even_odd(arr):\n",
    "    even_count = sum(1 for num in arr if num % 2 == 0)\n",
    "    odd_count = sum(1 for num in arr if num % 2 != 0)\n",
    "    \n",
    "    return even_count, odd_count\n",
    "numbers = [10, 21, 32, 43, 54, 65, 76, 87, 98]\n",
    "even, odd = count_even_odd(numbers)\n",
    "print(f\"Number of even numbers: {even}\")\n",
    "print(f\"Number of odd numbers: {odd}\")"
   ]
  },
  {
   "cell_type": "code",
   "execution_count": 31,
   "id": "3ce28a15-9957-4ff0-9208-c1ae55bc8f8a",
   "metadata": {},
   "outputs": [
    {
     "name": "stdout",
     "output_type": "stream",
     "text": [
      "Even numbers: 5, Odd numbers: 5\n"
     ]
    }
   ],
   "source": [
    "#program-15\n",
    "#function to get the difference of largest and smallest value \n",
    "def count_even_odd(arr):\n",
    "    even_count = 0\n",
    "    odd_count = 0\n",
    "    \n",
    "    for num in arr:\n",
    "        if num % 2 == 0:\n",
    "            even_count += 1\n",
    "        else:\n",
    "            odd_count += 1\n",
    "    \n",
    "    return even_count, odd_count\n",
    "arr = [1, 2, 3, 4, 5, 6, 7, 8, 9, 10]\n",
    "even_count, odd_count = count_even_odd(arr)\n",
    "print(f\"Even numbers: {even_count}, Odd numbers: {odd_count}\")"
   ]
  },
  {
   "cell_type": "code",
   "execution_count": null,
   "id": "51fbc824-5316-446b-90f8-a69e929c2c38",
   "metadata": {},
   "outputs": [],
   "source": []
  }
 ],
 "metadata": {
  "kernelspec": {
   "display_name": "Python 3 (ipykernel)",
   "language": "python",
   "name": "python3"
  },
  "language_info": {
   "codemirror_mode": {
    "name": "ipython",
    "version": 3
   },
   "file_extension": ".py",
   "mimetype": "text/x-python",
   "name": "python",
   "nbconvert_exporter": "python",
   "pygments_lexer": "ipython3",
   "version": "3.12.4"
  }
 },
 "nbformat": 4,
 "nbformat_minor": 5
}
