{
 "cells": [
  {
   "cell_type": "code",
   "execution_count": 1,
   "id": "2d2126fa-5b56-40c5-b0de-60f542afa979",
   "metadata": {},
   "outputs": [
    {
     "name": "stdout",
     "output_type": "stream",
     "text": [
      "Default Constructor Called\n",
      "One-Argument Constructor Called: arg1 = 20\n",
      "Two-Argument Constructor Called: arg1 = 40, arg2 = 80\n"
     ]
    }
   ],
   "source": [
    "#Constructors\n",
    "#program-1:\n",
    "class MyClass:\n",
    "    def __init__(self, arg1=None, arg2=None):\n",
    "        if arg1 is None and arg2 is None:\n",
    "            print(\"Default Constructor Called\")\n",
    "        elif arg2 is None:\n",
    "            print(f\"One-Argument Constructor Called: arg1 = {arg1}\")\n",
    "        else:\n",
    "            print(f\"Two-Argument Constructor Called: arg1 = {arg1}, arg2 = {arg2}\")\n",
    "\n",
    "obj1 = MyClass()        \n",
    "obj2 = MyClass(20)      \n",
    "obj3 = MyClass(40, 80)  \n"
   ]
  },
  {
   "cell_type": "code",
   "execution_count": 3,
   "id": "9c33b125-4709-4c89-a09a-078c46562362",
   "metadata": {},
   "outputs": [
    {
     "name": "stdout",
     "output_type": "stream",
     "text": [
      "SuperClass: Default Constructor Called\n",
      "SubClass: Default Constructor Called\n",
      "SuperClass: One-Argument Constructor Called: arg1 = 30\n",
      "SubClass: One-Argument Constructor Called: arg1 = 30\n",
      "SuperClass: Two-Argument Constructor Called: arg1 = 25, arg2 = 45\n",
      "SubClass: Two-Argument Constructor Called: arg1 = 25, arg2 = 45\n"
     ]
    }
   ],
   "source": [
    "#program-2:\n",
    "class SuperClass:\n",
    "    def __init__(self, arg1=None, arg2=None):\n",
    "        if arg1 is None and arg2 is None:\n",
    "            print(\"SuperClass: Default Constructor Called\")\n",
    "        elif arg2 is None:\n",
    "            print(f\"SuperClass: One-Argument Constructor Called: arg1 = {arg1}\")\n",
    "        else:\n",
    "            print(f\"SuperClass: Two-Argument Constructor Called: arg1 = {arg1}, arg2 = {arg2}\")\n",
    "\n",
    "class SubClass(SuperClass):\n",
    "    def __init__(self, arg1=None, arg2=None):\n",
    "        if arg1 is None and arg2 is None:\n",
    "            super().__init__()\n",
    "            print(\"SubClass: Default Constructor Called\")\n",
    "        elif arg2 is None:\n",
    "            super().__init__(arg1)\n",
    "            print(f\"SubClass: One-Argument Constructor Called: arg1 = {arg1}\")\n",
    "        else:\n",
    "            super().__init__(arg1, arg2)\n",
    "            print(f\"SubClass: Two-Argument Constructor Called: arg1 = {arg1}, arg2 = {arg2}\")\n",
    "\n",
    "obj1 = SubClass()      \n",
    "obj2 = SubClass(30)  \n",
    "obj3 = SubClass(25,45)\n"
   ]
  },
  {
   "cell_type": "code",
   "execution_count": 5,
   "id": "66fdfe78-3cea-46e3-a1e0-d34e53aaf21e",
   "metadata": {},
   "outputs": [
    {
     "name": "stdout",
     "output_type": "stream",
     "text": [
      "SuperClass: Default (Public) Constructor Called\n",
      "SubClass: Default (Public) Constructor Called\n",
      "SuperClass: One-Argument (Protected) Constructor Called: arg1 = 25\n",
      "SubClass: One-Argument (Protected) Constructor Called: arg1 = 25\n",
      "SuperClass: Two-Argument (Private) Constructor Called: arg1 = 10, arg2 = 30\n",
      "SubClass: Two-Argument (Private) Constructor Called: arg1 = 10, arg2 = 30\n"
     ]
    }
   ],
   "source": [
    "#program-3:\n",
    "class SuperClass:\n",
    "    def __init__(self, arg1=None, arg2=None):\n",
    "        if arg1 is None and arg2 is None:\n",
    "            print(\"SuperClass: Default (Public) Constructor Called\")\n",
    "        elif arg2 is None:\n",
    "            print(f\"SuperClass: One-Argument (Protected) Constructor Called: arg1 = {arg1}\")\n",
    "        else:\n",
    "            print(f\"SuperClass: Two-Argument (Private) Constructor Called: arg1 = {arg1}, arg2 = {arg2}\")\n",
    "\n",
    "class SubClass(SuperClass):\n",
    "    def __init__(self, arg1=None, arg2=None):\n",
    "        if arg1 is None and arg2 is None:\n",
    "            super().__init__()\n",
    "            print(\"SubClass: Default (Public) Constructor Called\")\n",
    "        elif arg2 is None:\n",
    "            super().__init__(arg1)\n",
    "            print(f\"SubClass: One-Argument (Protected) Constructor Called: arg1 = {arg1}\")\n",
    "        else:\n",
    "            super().__init__(arg1, arg2)\n",
    "            print(f\"SubClass: Two-Argument (Private) Constructor Called: arg1 = {arg1}, arg2 = {arg2}\")\n",
    "\n",
    "\n",
    "obj1 = SubClass()       \n",
    "obj2 = SubClass(25)      \n",
    "obj3 = SubClass(10, 30)  \n"
   ]
  },
  {
   "cell_type": "code",
   "execution_count": null,
   "id": "66b62843-a684-4ce1-b51e-c510c1c411fa",
   "metadata": {},
   "outputs": [],
   "source": []
  }
 ],
 "metadata": {
  "kernelspec": {
   "display_name": "Python 3 (ipykernel)",
   "language": "python",
   "name": "python3"
  },
  "language_info": {
   "codemirror_mode": {
    "name": "ipython",
    "version": 3
   },
   "file_extension": ".py",
   "mimetype": "text/x-python",
   "name": "python",
   "nbconvert_exporter": "python",
   "pygments_lexer": "ipython3",
   "version": "3.12.4"
  }
 },
 "nbformat": 4,
 "nbformat_minor": 5
}
