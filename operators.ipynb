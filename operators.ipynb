{
 "cells": [
  {
   "cell_type": "code",
   "execution_count": 1,
   "id": "9ea2f382-5f8a-4b4f-bce2-5393c78c68a9",
   "metadata": {},
   "outputs": [
    {
     "name": "stdout",
     "output_type": "stream",
     "text": [
      "Addition: 15\n",
      "Subtraction: 5\n",
      "Multiplication: 50\n",
      "Division: 2.0\n"
     ]
    }
   ],
   "source": [
    "#operators\n",
    "def arithmetic_operations(num1, num2, operator):\n",
    "    if operator == \"+\":\n",
    "        return num1 + num2\n",
    "    elif operator == \"-\":\n",
    "        return num1 - num2\n",
    "    elif operator == \"*\":\n",
    "        return num1 * num2\n",
    "    elif operator == \"/\":\n",
    "        if num2 != 0:\n",
    "            return num1 / num2\n",
    "        else:\n",
    "            return \"Error! Division by zero.\"\n",
    "    else:\n",
    "        return \"Invalid operator! Please use one of: +, -, *, /\"\n",
    "\n",
    "# Example usage:\n",
    "num1 = 10\n",
    "num2 = 5\n",
    "\n",
    "print(\"Addition:\", arithmetic_operations(num1, num2, \"+\"))\n",
    "print(\"Subtraction:\", arithmetic_operations(num1, num2, \"-\"))\n",
    "print(\"Multiplication:\", arithmetic_operations(num1, num2, \"*\"))\n",
    "print(\"Division:\", arithmetic_operations(num1, num2, \"/\"))\n"
   ]
  },
  {
   "cell_type": "code",
   "execution_count": 3,
   "id": "da1a7d18-f03f-4e30-8b15-76054ddc5990",
   "metadata": {},
   "outputs": [
    {
     "name": "stdout",
     "output_type": "stream",
     "text": [
      "Incremented: 11\n",
      "Decremented: 10\n"
     ]
    }
   ],
   "source": [
    "def increment_decrement(value, operation):\n",
    "    if operation == \"++\":\n",
    "        value += 1  # Increment\n",
    "    elif operation == \"--\":\n",
    "        value -= 1  # Decrement\n",
    "    else:\n",
    "        return \"Invalid operation. Use '++' for increment and '--' for decrement.\"\n",
    "    \n",
    "    return value\n",
    "\n",
    "# Example usage\n",
    "x = 10\n",
    "\n",
    "# Increment x\n",
    "x = increment_decrement(x, \"++\")\n",
    "print(\"Incremented:\", x)  # Output: 11\n",
    "\n",
    "# Decrement x\n",
    "x = increment_decrement(x, \"--\")\n",
    "print(\"Decremented:\", x)  # Output: 10\n"
   ]
  },
  {
   "cell_type": "code",
   "execution_count": 5,
   "id": "2acc2dfb-561c-4ee9-9bfc-2d110b03abc8",
   "metadata": {},
   "outputs": [
    {
     "name": "stdout",
     "output_type": "stream",
     "text": [
      "The numbers are not equal.\n"
     ]
    }
   ],
   "source": [
    "def check_equal(num1, num2):\n",
    "    if num1 == num2:\n",
    "        return \"The numbers are equal.\"\n",
    "    else:\n",
    "        return \"The numbers are not equal.\"\n",
    "\n",
    "# Example usage\n",
    "num1 = 10\n",
    "num2 = 20\n",
    "\n",
    "result = check_equal(num1, num2)\n",
    "print(result)  # Output: The numbers are not equal.\n"
   ]
  },
  {
   "cell_type": "code",
   "execution_count": 7,
   "id": "04cd30ee-1fa6-4cbe-93d8-9a409d319602",
   "metadata": {},
   "outputs": [
    {
     "name": "stdout",
     "output_type": "stream",
     "text": [
      "10 < 20: True\n",
      "10 <= 20: True\n",
      "10 > 20: False\n",
      "10 >= 20: False\n"
     ]
    }
   ],
   "source": [
    "def relational_operators(num1, num2):\n",
    "    # Less than\n",
    "    less_than = num1 < num2\n",
    "    # Less than or equal to\n",
    "    less_than_equal = num1 <= num2\n",
    "    # Greater than\n",
    "    greater_than = num1 > num2\n",
    "    # Greater than or equal to\n",
    "    greater_than_equal = num1 >= num2\n",
    "    \n",
    "    return less_than, less_than_equal, greater_than, greater_than_equal\n",
    "\n",
    "# Example usage\n",
    "num1 = 10\n",
    "num2 = 20\n",
    "\n",
    "result = relational_operators(num1, num2)\n",
    "\n",
    "print(f\"{num1} < {num2}: {result[0]}\")\n",
    "print(f\"{num1} <= {num2}: {result[1]}\")\n",
    "print(f\"{num1} > {num2}: {result[2]}\")\n",
    "print(f\"{num1} >= {num2}: {result[3]}\")\n"
   ]
  },
  {
   "cell_type": "code",
   "execution_count": null,
   "id": "47979495-5645-4d12-b077-28ef17c8937d",
   "metadata": {},
   "outputs": [],
   "source": []
  }
 ],
 "metadata": {
  "kernelspec": {
   "display_name": "Python 3 (ipykernel)",
   "language": "python",
   "name": "python3"
  },
  "language_info": {
   "codemirror_mode": {
    "name": "ipython",
    "version": 3
   },
   "file_extension": ".py",
   "mimetype": "text/x-python",
   "name": "python",
   "nbconvert_exporter": "python",
   "pygments_lexer": "ipython3",
   "version": "3.12.4"
  }
 },
 "nbformat": 4,
 "nbformat_minor": 5
}
