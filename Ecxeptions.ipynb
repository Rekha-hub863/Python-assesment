{
 "cells": [
  {
   "cell_type": "code",
   "execution_count": 1,
   "id": "e616826f-607f-46eb-bbe3-8e9fe3605702",
   "metadata": {},
   "outputs": [
    {
     "ename": "ZeroDivisionError",
     "evalue": "division by zero",
     "output_type": "error",
     "traceback": [
      "\u001b[1;31m---------------------------------------------------------------------------\u001b[0m",
      "\u001b[1;31mZeroDivisionError\u001b[0m                         Traceback (most recent call last)",
      "Cell \u001b[1;32mIn[1], line 7\u001b[0m\n\u001b[0;32m      4\u001b[0m denominator \u001b[38;5;241m=\u001b[39m \u001b[38;5;241m0\u001b[39m\n\u001b[0;32m      6\u001b[0m \u001b[38;5;66;03m# Attempting to divide by zero will raise an exception\u001b[39;00m\n\u001b[1;32m----> 7\u001b[0m result \u001b[38;5;241m=\u001b[39m numerator \u001b[38;5;241m/\u001b[39m denominator\n\u001b[0;32m      9\u001b[0m \u001b[38;5;28mprint\u001b[39m(\u001b[38;5;124m\"\u001b[39m\u001b[38;5;124mThe result is:\u001b[39m\u001b[38;5;124m\"\u001b[39m, result)\n",
      "\u001b[1;31mZeroDivisionError\u001b[0m: division by zero"
     ]
    }
   ],
   "source": [
    "#program 1 Write a program to generate Arithmetic Exception without exception handling \n",
    "# This will generate a ZeroDivisionError\n",
    "numerator = 10\n",
    "denominator = 0\n",
    "\n",
    "# Attempting to divide by zero will raise an exception\n",
    "result = numerator / denominator\n",
    "\n",
    "print(\"The result is:\", result)"
   ]
  },
  {
   "cell_type": "code",
   "execution_count": 3,
   "id": "e08b7c0a-5a97-4bf6-a124-33f557d798e8",
   "metadata": {},
   "outputs": [
    {
     "name": "stdin",
     "output_type": "stream",
     "text": [
      "Enter the numerator:  12\n",
      "Enter the denominator:  65\n"
     ]
    },
    {
     "name": "stdout",
     "output_type": "stream",
     "text": [
      "The result is: 0.18461538461538463\n",
      "Operation complete.\n"
     ]
    }
   ],
   "source": [
    "#program 2 :Handle the Arithmetic exception using try-catch block\n",
    "def divide_numbers():\n",
    "    try:\n",
    "        num1 = int(input(\"Enter the numerator: \"))\n",
    "        num2 = int(input(\"Enter the denominator: \"))\n",
    "        result = num1 / num2  # This can raise ZeroDivisionError\n",
    "        print(f\"The result is: {result}\")\n",
    "    except ZeroDivisionError:\n",
    "        print(\"Error: Cannot divide by zero.\")\n",
    "    except ValueError:\n",
    "        print(\"Error: Please enter valid integers.\")\n",
    "    finally:\n",
    "        print(\"Operation complete.\")\n",
    "\n",
    "if __name__ == \"__main__\":\n",
    "    divide_numbers()"
   ]
  },
  {
   "cell_type": "code",
   "execution_count": 7,
   "id": "72ed7e34-dfe7-4368-9f07-7029f2b135d8",
   "metadata": {},
   "outputs": [
    {
     "name": "stdin",
     "output_type": "stream",
     "text": [
      "Enter a value:  10\n"
     ]
    },
    {
     "name": "stdout",
     "output_type": "stream",
     "text": [
      "The value 10 is valid.\n"
     ]
    }
   ],
   "source": [
    "#program 3 : Write a method which throws exception, Call that method in main class without try block\n",
    "class MyClass:\n",
    "    def check_value(self, value):\n",
    "        # Raise an exception if the value is less than 10\n",
    "        if value < 10:\n",
    "            raise ValueError(\"Value must be 10 or greater!\")\n",
    "        print(f\"The value {value} is valid.\")\n",
    "\n",
    "def main():\n",
    "    obj = MyClass()\n",
    "    # Call the method without try-catch, so it will raise an exception if value is less than 10\n",
    "    value = int(input(\"Enter a value: \"))\n",
    "    obj.check_value(value)\n",
    "\n",
    "if __name__ == \"__main__\":\n",
    "    main()"
   ]
  },
  {
   "cell_type": "code",
   "execution_count": 9,
   "id": "2c5d390f-acb3-4ebc-a6fa-77a47f84d0b3",
   "metadata": {},
   "outputs": [
    {
     "name": "stdin",
     "output_type": "stream",
     "text": [
      "Enter the first number:  10\n",
      "Enter the second number:  12\n"
     ]
    },
    {
     "name": "stdout",
     "output_type": "stream",
     "text": [
      "The result of 10 / 12 is: 0.8333333333333334\n",
      "Division was successful.\n",
      "Execution complete.\n"
     ]
    }
   ],
   "source": [
    "#program 4 : Write a program with multiple catch blocks\n",
    "def perform_calculation():\n",
    "    try:\n",
    "        num1 = int(input(\"Enter the first number: \"))\n",
    "        num2 = int(input(\"Enter the second number: \"))\n",
    "        \n",
    "        # Potential errors: Division by zero, ValueError, etc.\n",
    "        result = num1 / num2\n",
    "        print(f\"The result of {num1} / {num2} is: {result}\")\n",
    "        \n",
    "    except ZeroDivisionError:\n",
    "        print(\"Error: Cannot divide by zero.\")\n",
    "        \n",
    "    except ValueError:\n",
    "        print(\"Error: Invalid input. Please enter a valid integer.\")\n",
    "        \n",
    "    except ArithmeticError:\n",
    "        print(\"Error: An arithmetic error occurred.\")\n",
    "        \n",
    "    except Exception as e:\n",
    "        print(f\"Unexpected error: {e}\")\n",
    "        \n",
    "    else:\n",
    "        print(\"Division was successful.\")\n",
    "        \n",
    "    finally:\n",
    "        print(\"Execution complete.\")\n",
    "\n",
    "if __name__ == \"__main__\":\n",
    "    perform_calculation()\n"
   ]
  },
  {
   "cell_type": "code",
   "execution_count": 11,
   "id": "3c8d1921-8f99-4b34-b96b-c720572d90f2",
   "metadata": {},
   "outputs": [
    {
     "name": "stdin",
     "output_type": "stream",
     "text": [
      "Enter your age:  12\n"
     ]
    },
    {
     "name": "stdout",
     "output_type": "stream",
     "text": [
      "Error: Age must be 18 or older.\n"
     ]
    }
   ],
   "source": [
    "#program 5 : Write a program to throw exception with your own message\n",
    "def check_age(age):\n",
    "    if age < 18:\n",
    "        raise ValueError(\"Age must be 18 or older.\")\n",
    "    else:\n",
    "        print(\"You are eligible.\")\n",
    "\n",
    "try:\n",
    "    age = int(input(\"Enter your age: \"))\n",
    "    check_age(age)\n",
    "except ValueError as e:\n",
    "    print(f\"Error: {e}\")"
   ]
  },
  {
   "cell_type": "code",
   "execution_count": 13,
   "id": "d270cdc4-3a34-4941-95c8-7aaec620feeb",
   "metadata": {},
   "outputs": [
    {
     "name": "stdout",
     "output_type": "stream",
     "text": [
      "Custom Exception occurred: This is a user-defined exception!\n",
      "Execution completed, cleaning up resources if any.\n"
     ]
    }
   ],
   "source": [
    "#program 6: Write a program to create your own exception\n",
    "class CustomException(Exception):\n",
    "    def _init_(self, message):\n",
    "        super()._init_(message)\n",
    "\n",
    "try:\n",
    "    # Raising a custom exception\n",
    "    raise CustomException(\"This is a user-defined exception!\")\n",
    "except CustomException as e:\n",
    "    # Catching and printing the custom exception\n",
    "    print(f\"Custom Exception occurred: {e}\")\n",
    "finally:\n",
    "    print(\"Execution completed, cleaning up resources if any.\")"
   ]
  },
  {
   "cell_type": "code",
   "execution_count": 15,
   "id": "5b142398-003a-41ff-afba-d8096e9c4b75",
   "metadata": {},
   "outputs": [
    {
     "name": "stdout",
     "output_type": "stream",
     "text": [
      "Arithmetic Exception occurred: division by zero\n",
      "Execution completed, cleaning up resources if any.\n"
     ]
    }
   ],
   "source": [
    "#program 7:Write a program with finally block\n",
    "try:\n",
    "    # Attempting to divide by zero to trigger an Arithmetic Exception\n",
    "    result = 10 / 0\n",
    "    print(result)\n",
    "except ZeroDivisionError as e:\n",
    "    # Catching and printing ZeroDivisionError\n",
    "    print(f\"Arithmetic Exception occurred: {e}\")\n",
    "finally:\n",
    "    # Finally block always executes\n",
    "    print(\"Execution completed, cleaning up resources if any.\")\n"
   ]
  },
  {
   "cell_type": "code",
   "execution_count": 17,
   "id": "930684b9-f32d-4eaf-8835-f959bc57cab7",
   "metadata": {},
   "outputs": [
    {
     "name": "stdout",
     "output_type": "stream",
     "text": [
      "Arithmetic Exception occurred: division by zero\n"
     ]
    }
   ],
   "source": [
    "#progarm 8:Write a program to generate Arithmetic Exception\n",
    "try:\n",
    "    # Attempting to divide by zero to trigger an Arithmetic Exception\n",
    "    result = 10 / 0\n",
    "    print(result)\n",
    "except ZeroDivisionError as e:\n",
    "    # Catching and printing ZeroDivisionError\n",
    "    print(f\"Arithmetic Exception occurred: {e}\")"
   ]
  },
  {
   "cell_type": "code",
   "execution_count": null,
   "id": "04459d7d-5787-4bb1-8794-572d7757db58",
   "metadata": {},
   "outputs": [],
   "source": []
  }
 ],
 "metadata": {
  "kernelspec": {
   "display_name": "Python 3 (ipykernel)",
   "language": "python",
   "name": "python3"
  },
  "language_info": {
   "codemirror_mode": {
    "name": "ipython",
    "version": 3
   },
   "file_extension": ".py",
   "mimetype": "text/x-python",
   "name": "python",
   "nbconvert_exporter": "python",
   "pygments_lexer": "ipython3",
   "version": "3.12.4"
  }
 },
 "nbformat": 4,
 "nbformat_minor": 5
}
