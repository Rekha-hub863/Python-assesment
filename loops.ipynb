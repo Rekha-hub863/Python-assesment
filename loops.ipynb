{
 "cells": [
  {
   "cell_type": "code",
   "execution_count": 1,
   "id": "aca7e0fb-0127-4839-b332-2ac8f9fbd07c",
   "metadata": {},
   "outputs": [
    {
     "name": "stdout",
     "output_type": "stream",
     "text": [
      "Bright IT Career\n",
      "Bright IT Career\n",
      "Bright IT Career\n",
      "Bright IT Career\n",
      "Bright IT Career\n",
      "Bright IT Career\n",
      "Bright IT Career\n",
      "Bright IT Career\n",
      "Bright IT Career\n",
      "Bright IT Career\n"
     ]
    }
   ],
   "source": [
    "#program-1:\n",
    "for i in range(10):\n",
    "    print(\"Bright IT Career\")"
   ]
  },
  {
   "cell_type": "code",
   "execution_count": 3,
   "id": "3d19051e-0acb-4957-b292-2b9c31805e21",
   "metadata": {},
   "outputs": [
    {
     "name": "stdout",
     "output_type": "stream",
     "text": [
      "1\n",
      "2\n",
      "3\n",
      "4\n",
      "5\n",
      "6\n",
      "7\n",
      "8\n",
      "9\n",
      "10\n",
      "11\n",
      "12\n",
      "13\n",
      "14\n",
      "15\n",
      "16\n",
      "17\n",
      "18\n",
      "19\n",
      "20\n"
     ]
    }
   ],
   "source": [
    "#program-2:\n",
    "i = 1\n",
    "while i <= 20:\n",
    "    print(i)\n",
    "    i += 1"
   ]
  },
  {
   "cell_type": "code",
   "execution_count": 5,
   "id": "e49a5eae-fc25-4a12-b057-5cf92f0474c1",
   "metadata": {},
   "outputs": [
    {
     "name": "stdout",
     "output_type": "stream",
     "text": [
      "a == b: False\n",
      "a != b: True\n"
     ]
    }
   ],
   "source": [
    "#program-3:\n",
    "a = 10\n",
    "b = 20\n",
    "\n",
    "print(\"a == b:\", a == b)  # False\n",
    "print(\"a != b:\", a != b)  # True"
   ]
  },
  {
   "cell_type": "code",
   "execution_count": 7,
   "id": "f6162aed-b1a8-4c94-b6e4-595f87c60718",
   "metadata": {},
   "outputs": [
    {
     "name": "stdout",
     "output_type": "stream",
     "text": [
      "Odd: 1\n",
      "Even: 2\n",
      "Odd: 3\n",
      "Even: 4\n",
      "Odd: 5\n",
      "Even: 6\n",
      "Odd: 7\n",
      "Even: 8\n",
      "Odd: 9\n",
      "Even: 10\n",
      "Odd: 11\n",
      "Even: 12\n",
      "Odd: 13\n",
      "Even: 14\n",
      "Odd: 15\n",
      "Even: 16\n",
      "Odd: 17\n",
      "Even: 18\n",
      "Odd: 19\n",
      "Even: 20\n"
     ]
    }
   ],
   "source": [
    "#program-4:\n",
    "for i in range(1, 21):\n",
    "    if i % 2 == 0:\n",
    "        print(f\"Even: {i}\")\n",
    "    else:\n",
    "        print(f\"Odd: {i}\")"
   ]
  },
  {
   "cell_type": "code",
   "execution_count": 9,
   "id": "d05aa007-5522-488e-99cf-5566390799d2",
   "metadata": {},
   "outputs": [
    {
     "name": "stdout",
     "output_type": "stream",
     "text": [
      "Largest number: 25\n"
     ]
    }
   ],
   "source": [
    "#program-5:\n",
    "a, b, c = 15, 25, 10\n",
    "\n",
    "largest = max(a, b, c)\n",
    "print(\"Largest number:\", largest)"
   ]
  },
  {
   "cell_type": "code",
   "execution_count": 11,
   "id": "b8f16a76-f02f-4f3c-8646-610e6af1e0f5",
   "metadata": {},
   "outputs": [
    {
     "name": "stdout",
     "output_type": "stream",
     "text": [
      "10\n",
      "12\n",
      "14\n",
      "16\n",
      "18\n",
      "20\n"
     ]
    }
   ],
   "source": [
    "#program-6:\n",
    "i = 10\n",
    "while i <= 20:\n",
    "    if i % 2 == 0:\n",
    "        print(i)\n",
    "    i += 1"
   ]
  },
  {
   "cell_type": "code",
   "execution_count": 13,
   "id": "9bce2e59-3da2-4803-871b-38a402fb3833",
   "metadata": {},
   "outputs": [
    {
     "name": "stdout",
     "output_type": "stream",
     "text": [
      "1\n",
      "2\n",
      "3\n",
      "4\n",
      "5\n",
      "6\n",
      "7\n",
      "8\n",
      "9\n",
      "10\n"
     ]
    }
   ],
   "source": [
    "#program-7:\n",
    "i = 1\n",
    "while True:\n",
    "    print(i)\n",
    "    i += 1\n",
    "    if i > 10:\n",
    "        break"
   ]
  },
  {
   "cell_type": "code",
   "execution_count": 15,
   "id": "34c35be5-2e66-4dde-9a52-b67fdf224bda",
   "metadata": {},
   "outputs": [
    {
     "name": "stdout",
     "output_type": "stream",
     "text": [
      "153 is Armstrong: True\n"
     ]
    }
   ],
   "source": [
    "#program-8:\n",
    "def is_armstrong(n):\n",
    "    total = sum(int(d) ** 3 for d in str(n))\n",
    "    return total == n\n",
    "\n",
    "num = 153\n",
    "print(f\"{num} is Armstrong: {is_armstrong(num)}\")"
   ]
  },
  {
   "cell_type": "code",
   "execution_count": 17,
   "id": "68f13539-ca6f-4b8d-b4ae-2354df731f1c",
   "metadata": {},
   "outputs": [
    {
     "name": "stdout",
     "output_type": "stream",
     "text": [
      "Is 17 prime? True\n"
     ]
    }
   ],
   "source": [
    "#program-9:\n",
    "def is_prime(n):\n",
    "    if n < 2:\n",
    "        return False\n",
    "    for i in range(2, int(n**0.5) + 1):\n",
    "        if n % i == 0:\n",
    "            return False\n",
    "    return True\n",
    "\n",
    "print(\"Is 17 prime?\", is_prime(17))"
   ]
  },
  {
   "cell_type": "code",
   "execution_count": 19,
   "id": "5ad57cdb-a201-4d05-adec-44934591ee66",
   "metadata": {},
   "outputs": [
    {
     "name": "stdout",
     "output_type": "stream",
     "text": [
      "121 is palindrome: True\n"
     ]
    }
   ],
   "source": [
    "#program-10:\n",
    "def is_palindrome(n):\n",
    "    return str(n) == str(n)[::-1]\n",
    "\n",
    "print(\"121 is palindrome:\", is_palindrome(121))"
   ]
  },
  {
   "cell_type": "code",
   "execution_count": null,
   "id": "8e2d4e75-5f8d-4031-b573-84439ffba2f7",
   "metadata": {},
   "outputs": [],
   "source": []
  }
 ],
 "metadata": {
  "kernelspec": {
   "display_name": "Python 3 (ipykernel)",
   "language": "python",
   "name": "python3"
  },
  "language_info": {
   "codemirror_mode": {
    "name": "ipython",
    "version": 3
   },
   "file_extension": ".py",
   "mimetype": "text/x-python",
   "name": "python",
   "nbconvert_exporter": "python",
   "pygments_lexer": "ipython3",
   "version": "3.12.4"
  }
 },
 "nbformat": 4,
 "nbformat_minor": 5
}
