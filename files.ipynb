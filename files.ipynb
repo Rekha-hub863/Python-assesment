{
 "cells": [
  {
   "cell_type": "code",
   "execution_count": 1,
   "id": "02963626-e940-40a5-b959-5e5cd8cdf751",
   "metadata": {},
   "outputs": [
    {
     "name": "stdout",
     "output_type": "stream",
     "text": [
      "File Content:\n",
      "<!doctype html>\n",
      "<html>\n",
      "<head>\n",
      "<title>games</title>\n",
      "</head>\n",
      "<body>\n",
      "<header style=\"text-align: center;\">\n",
      "<h1>WELCOME TO GAME GALLERY</h1>\n",
      "</header>\n",
      "<marquee direction=\"right\" bgcolor=\"green\" style=\"font-size: 30px;\">DOWNLOAD GAMES</marquee><br><br>\n",
      "\n",
      "<a href=\"https://play.google.com/store/apps/details?id=com.imangi.templerun&hl=en_IN\">\n",
      "  <img src=\"https://i.ytimg.com/vi/9aK2zoFBbKY/maxresdefault.jpg\" height=\"300\" width=\"350\" style=\"border: 10px solid black; margin-left: 150px; margin-right: 50px;border-radius: 15px;\">\n",
      "</a>\n",
      "\n",
      "<a href=\"https://play.google.com/store/apps/details?id=com.kiloo.subwaysurf&hl=en_IN\">\n",
      "  <img src=\"https://is1-ssl.mzstatic.com/image/thumb/PurpleSource116/v4/b9/0e/b7/b90eb7ba-64ac-13b7-80fc-09494512d787/24a9b9e2-fb2a-4c32-913f-1bcc5fe73285__U002fdata_U002fapp-store-connect-assets_U002fscreenshots_U002fen-US_U002f1_IPAD_PRO_129.jpg/576x768bb.jpg\" height=\"300\" width=\"350\" style=\"border: 10px solid black; margin-right: 50px;border-radius: 15px;\">\n",
      "</a>\n",
      "\n",
      "<a href=\"https://play.google.com/store/apps/details?id=com.miniclip.railrush&hl=en_IN\">\n",
      "  <img src=\"https://play-lh.googleusercontent.com/3H8s3u0oO0OUJi_tG73PNIE9RAr5ATn7Kg6pogZV8byYPQA-etDHNIWFSmrg_A86Hv4=w526-h296-rw\" height=\"300\" width=\"350\" style=\"border: 10px solid black; margin-right: 50px;border-radius: 15px;\">\n",
      "</a><br><br><br><br>\n",
      "\n",
      "<a href=\"https://play.google.com/store/apps/details?id=com.playvalve.wsjourney&hl=en_IN\">\n",
      "  <img src=\"https://cdn.shopify.com/s/files/1/0511/7575/1837/products/9555480609300.jpg?v=1623934615\" height=\"300\" width=\"350\" style=\"border: 10px solid black;margin-left: 150px; margin-right: 50px;border-radius: 15px;\">\n",
      "</a>\n",
      "\n",
      "<a href=\"https://play.google.com/store/apps/details?id=com.eg.deathpark&hl=en_IN\">\n",
      "  <img src=\"https://play-lh.googleusercontent.com/fb8etueAU9dRhrVCbTyVHpjf5rwJMiSqKn1msdxz-YRVgSdgrfmiATN7AUcUzE6JGG0\" height=\"300\" width=\"350\" style=\"border: 10px solid black; margin-right: 50px;border-radius: 15px;\">\n",
      "</a>\n",
      "\n",
      "<a href=\"https://kitchen-crush-cooking-games.en.softonic.com/android\">\n",
      "  <img src=\"https://encrypted-tbn0.gstatic.com/images?q=tbn:ANd9GcTyc34ny4Lkja2yl9U-GWkmIrP02DksuwoxOQ&s\" height=\"300\" width=\"350\" style=\"border: 10px solid black;border-radius: 15px;\">\n",
      "</a>\n",
      "\n",
      "</header>\n",
      "</body>\n",
      "</html>\n"
     ]
    }
   ],
   "source": [
    "#program-1 Write a program to read text file \n",
    "import os\n",
    "def read_file_manual(filename):\n",
    "    \n",
    "    fd = os.open(filename, os.O_RDONLY)\n",
    "    \n",
    "    content = \"\"\n",
    "    while True:\n",
    "        buffer = os.read(fd, 1024)  \n",
    "        if not buffer:\n",
    "            break  \n",
    "        content += buffer.decode(\"utf-8\")  # Convert bytes to string\n",
    "    \n",
    "    os.close(fd)  \n",
    "    return content\n",
    "filename = \"gallery.txt\"  # Ensure this file exists in the same directory\n",
    "file_content = read_file_manual(filename)\n",
    "print(\"File Content:\")\n",
    "print(file_content)"
   ]
  },
  {
   "cell_type": "code",
   "execution_count": 3,
   "id": "b19c2922-7e1b-407e-834a-58dac47ee89a",
   "metadata": {},
   "outputs": [
    {
     "name": "stdout",
     "output_type": "stream",
     "text": [
      "Text written to output.txt\n"
     ]
    }
   ],
   "source": [
    "#program-2\n",
    "#Write a program to write text to .txt file using  InputStream\n",
    "def write_file_manual(filename, text):\n",
    "    fd = open(filename, \"w\")  # Open file for writing\n",
    "    try:\n",
    "        for char in text:\n",
    "            fd.write(char)  # Write character by character\n",
    "    finally:\n",
    "        fd.close()  # Ensure file is closed\n",
    "\n",
    "# Example usage\n",
    "filename = \"output.txt\"\n",
    "text_to_write = \"Hello, this is a manually written file!\"\n",
    "write_file_manual(filename, text_to_write)\n",
    "print(\"Text written to\", filename)\n"
   ]
  },
  {
   "cell_type": "code",
   "execution_count": 5,
   "id": "6eab5ef8-8f9f-4b17-a5b4-33afedbe9fa9",
   "metadata": {},
   "outputs": [
    {
     "name": "stdout",
     "output_type": "stream",
     "text": [
      "<!doctype html>\n",
      "<html>\n",
      "<head>\n",
      "<title>games</title>\n",
      "</head>\n",
      "<body>\n",
      "<header style=\"text-align: center;\">\n",
      "<h1>WELCOME TO GAME GALLERY</h1>\n",
      "</header>\n",
      "<marquee direction=\"right\" bgcolor=\"green\" style=\"font-size: 30px;\">DOWNLOAD GAMES</marquee><br><br>\n",
      "\n",
      "<a href=\"https://play.google.com/store/apps/details?id=com.imangi.templerun&hl=en_IN\">\n",
      "  <img src=\"https://i.ytimg.com/vi/9aK2zoFBbKY/maxresdefault.jpg\" height=\"300\" width=\"350\" style=\"border: 10px solid black; margin-left: 150px; margin-right: 50px;border-radius: 15px;\">\n",
      "</a>\n",
      "\n",
      "<a href=\"https://play.google.com/store/apps/details?id=com.kiloo.subwaysurf&hl=en_IN\">\n",
      "  <img src=\"https://is1-ssl.mzstatic.com/image/thumb/PurpleSource116/v4/b9/0e/b7/b90eb7ba-64ac-13b7-80fc-09494512d787/24a9b9e2-fb2a-4c32-913f-1bcc5fe73285__U002fdata_U002fapp-store-connect-assets_U002fscreenshots_U002fen-US_U002f1_IPAD_PRO_129.jpg/576x768bb.jpg\" height=\"300\" width=\"350\" style=\"border: 10px solid black; margin-right: 50px;border-radius: 15px;\">\n",
      "</a>\n",
      "\n",
      "<a href=\"https://play.google.com/store/apps/details?id=com.miniclip.railrush&hl=en_IN\">\n",
      "  <img src=\"https://play-lh.googleusercontent.com/3H8s3u0oO0OUJi_tG73PNIE9RAr5ATn7Kg6pogZV8byYPQA-etDHNIWFSmrg_A86Hv4=w526-h296-rw\" height=\"300\" width=\"350\" style=\"border: 10px solid black; margin-right: 50px;border-radius: 15px;\">\n",
      "</a><br><br><br><br>\n",
      "\n",
      "<a href=\"https://play.google.com/store/apps/details?id=com.playvalve.wsjourney&hl=en_IN\">\n",
      "  <img src=\"https://cdn.shopify.com/s/files/1/0511/7575/1837/products/9555480609300.jpg?v=1623934615\" height=\"300\" width=\"350\" style=\"border: 10px solid black;margin-left: 150px; margin-right: 50px;border-radius: 15px;\">\n",
      "</a>\n",
      "\n",
      "<a href=\"https://play.google.com/store/apps/details?id=com.eg.deathpark&hl=en_IN\">\n",
      "  <img src=\"https://play-lh.googleusercontent.com/fb8etueAU9dRhrVCbTyVHpjf5rwJMiSqKn1msdxz-YRVgSdgrfmiATN7AUcUzE6JGG0\" height=\"300\" width=\"350\" style=\"border: 10px solid black; margin-right: 50px;border-radius: 15px;\">\n",
      "</a>\n",
      "\n",
      "<a href=\"https://kitchen-crush-cooking-games.en.softonic.com/android\">\n",
      "  <img src=\"https://encrypted-tbn0.gstatic.com/images?q=tbn:ANd9GcTyc34ny4Lkja2yl9U-GWkmIrP02DksuwoxOQ&s\" height=\"300\" width=\"350\" style=\"border: 10px solid black;border-radius: 15px;\">\n",
      "</a>\n",
      "\n",
      "</header>\n",
      "</body>\n",
      "</html>"
     ]
    }
   ],
   "source": [
    "#program-3\n",
    "#Write a program to read a file stream \n",
    "def read_file_stream(filename):\n",
    "    with open(filename, \"r\", encoding=\"utf-8\") as file:  # Specify UTF-8 encoding\n",
    "        for line in file:\n",
    "            print(line, end=\"\")  # Print each line as it is read\n",
    "\n",
    "# Example usage\n",
    "filename = \"gallery.txt\"  # Ensure this file exists\n",
    "read_file_stream(filename)"
   ]
  },
  {
   "cell_type": "code",
   "execution_count": 7,
   "id": "91333192-d5f1-4bab-b6ce-1415f30acca8",
   "metadata": {},
   "outputs": [
    {
     "name": "stdout",
     "output_type": "stream",
     "text": [
      "html>\n",
      "\n"
     ]
    }
   ],
   "source": [
    "#program-4\n",
    "#Write a program to read a file stream supports random access \n",
    "def read_file_random_access(filename, position):\n",
    "    with open(filename, \"r\", encoding=\"utf-8\") as file:\n",
    "        file.seek(position)  \n",
    "        print(file.readline())  \n",
    "\n",
    "# Example usage\n",
    "filename = \"gallery.txt\"  \n",
    "position = 10  \n",
    "read_file_random_access(filename, position)"
   ]
  },
  {
   "cell_type": "code",
   "execution_count": 11,
   "id": "c6cebffe-6a4a-422a-b526-eda7df6528a1",
   "metadata": {},
   "outputs": [
    {
     "name": "stdout",
     "output_type": "stream",
     "text": [
      "h\n"
     ]
    }
   ],
   "source": [
    "#program-5\n",
    "#Write a program to read a file a just to a particular index using seek()\n",
    "def read_file_at_index(filename, index):\n",
    "    with open(filename, \"r\", encoding=\"utf-8\") as file:\n",
    "        file.seek(index)  \n",
    "        print(file.read(1))  \n",
    "\n",
    "# Example usage\n",
    "filename = \"gallery.txt\"  \n",
    "index = 10  \n",
    "read_file_at_index(filename, index)"
   ]
  },
  {
   "cell_type": "code",
   "execution_count": null,
   "id": "19c21002-96ef-4eaa-be05-971a65461cae",
   "metadata": {},
   "outputs": [],
   "source": []
  }
 ],
 "metadata": {
  "kernelspec": {
   "display_name": "Python 3 (ipykernel)",
   "language": "python",
   "name": "python3"
  },
  "language_info": {
   "codemirror_mode": {
    "name": "ipython",
    "version": 3
   },
   "file_extension": ".py",
   "mimetype": "text/x-python",
   "name": "python",
   "nbconvert_exporter": "python",
   "pygments_lexer": "ipython3",
   "version": "3.12.4"
  }
 },
 "nbformat": 4,
 "nbformat_minor": 5
}
