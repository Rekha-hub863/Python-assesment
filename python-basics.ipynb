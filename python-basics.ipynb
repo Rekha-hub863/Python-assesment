{
 "cells": [
  {
   "cell_type": "code",
   "execution_count": 1,
   "id": "702e1f97-533f-43a1-a01d-8a9e2f5de249",
   "metadata": {},
   "outputs": [
    {
     "name": "stdout",
     "output_type": "stream",
     "text": [
      "Chandra Rekha\n"
     ]
    }
   ],
   "source": [
    "#program-1:\n",
    "print(\"Chandra Rekha\")"
   ]
  },
  {
   "cell_type": "code",
   "execution_count": 3,
   "id": "2df0c7ba-5c42-4aaa-82c2-a149516895fc",
   "metadata": {},
   "outputs": [
    {
     "name": "stdout",
     "output_type": "stream",
     "text": [
      "Comments in Python\n"
     ]
    }
   ],
   "source": [
    "#program-2:\n",
    "# This is a single-line comment\n",
    "\n",
    "\"\"\"\n",
    "This is a multi-line comment.\n",
    "It spans across multiple lines.\n",
    "\"\"\"\n",
    "print(\"Comments in Python\")"
   ]
  },
  {
   "cell_type": "code",
   "execution_count": 5,
   "id": "8e59ce3f-0df1-4a9a-9a87-b49090eca565",
   "metadata": {},
   "outputs": [
    {
     "name": "stdout",
     "output_type": "stream",
     "text": [
      "Integer: 25\n",
      "Boolean: True\n",
      "Character: A\n",
      "Float: 5.9\n",
      "Double: 3.141592653589793\n"
     ]
    }
   ],
   "source": [
    "#program-3:\n",
    "# Integer\n",
    "age = 25\n",
    "print(\"Integer:\", age)\n",
    "\n",
    "# Boolean\n",
    "is_student = True\n",
    "print(\"Boolean:\", is_student)\n",
    "\n",
    "# Character (in Python, characters are just single-character strings)\n",
    "grade = 'A'\n",
    "print(\"Character:\", grade)\n",
    "\n",
    "# Float\n",
    "height = 5.9\n",
    "print(\"Float:\", height)\n",
    "\n",
    "# Double (In Python, float is equivalent to double in other languages)\n",
    "pi = 3.141592653589793\n",
    "print(\"Double:\", pi)"
   ]
  },
  {
   "cell_type": "code",
   "execution_count": 7,
   "id": "b145d851-2fc3-47d9-8450-cc5b0770b3a1",
   "metadata": {},
   "outputs": [
    {
     "name": "stdout",
     "output_type": "stream",
     "text": [
      "Local variable: 20\n",
      "Global variable: 10\n"
     ]
    }
   ],
   "source": [
    "#program-4:\n",
    "x = 10  # Global variable\n",
    "\n",
    "def my_function():\n",
    "    x = 20  # Local variable\n",
    "    print(\"Local variable:\", x)\n",
    "\n",
    "my_function()\n",
    "print(\"Global variable:\", x)"
   ]
  },
  {
   "cell_type": "code",
   "execution_count": null,
   "id": "5482246a-8786-42ca-b683-b47369412570",
   "metadata": {},
   "outputs": [],
   "source": []
  }
 ],
 "metadata": {
  "kernelspec": {
   "display_name": "Python 3 (ipykernel)",
   "language": "python",
   "name": "python3"
  },
  "language_info": {
   "codemirror_mode": {
    "name": "ipython",
    "version": 3
   },
   "file_extension": ".py",
   "mimetype": "text/x-python",
   "name": "python",
   "nbconvert_exporter": "python",
   "pygments_lexer": "ipython3",
   "version": "3.12.4"
  }
 },
 "nbformat": 4,
 "nbformat_minor": 5
}
